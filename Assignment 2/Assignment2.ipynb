{
 "cells": [
  {
   "cell_type": "markdown",
   "metadata": {},
   "source": [
    "## IN3050/IN4050 Mandatory Assignment 2: Supervised Learning"
   ]
  },
  {
   "cell_type": "markdown",
   "metadata": {},
   "source": [
    "**Name: Danielius Kocan (danielik)** "
   ]
  },
  {
   "cell_type": "markdown",
   "metadata": {},
   "source": [
    "### Rules\n",
    "\n",
    "Before you begin the exercise, review the rules at this website: https://www.uio.no/english/studies/examinations/compulsory-activities/mn-ifi-mandatory.html , in particular the paragraph on cooperation. This is an individual assignment. You are not allowed to deliver together or copy/share source-code/answers with others. Read also the \"Routines for handling suspicion of cheating and attempted cheating at the University of Oslo\" https://www.uio.no/english/about/regulations/studies/studies-examinations/routines-cheating.html By submitting this assignment, you confirm that you are familiar with the rules and the consequences of breaking them.\n",
    "\n",
    "### Delivery\n",
    "\n",
    "**Deadline**: Friday, March 19, 2021, 23:59\n",
    "\n",
    "Your submission should be delivered in Devilry. You may redeliver in Devilry before the deadline, but include all files in the last delivery, as only the last delivery will be read. You are recommended to upload preliminary versions hours (or days) before the final deadline.\n",
    "\n",
    "### What to deliver?\n",
    "\n",
    "You are recommended to solve the exercise in a Jupyter notebook, but you might solve it in a Python program if you prefer.\n",
    "\n",
    "If you choose Jupyter, you should deliver the notebook. You should answer all questions and explain what you are doing in Markdown. Still, the code should be properly commented. The notebook should contain results of your runs. In addition, you should make a pdf of your solution which shows the results of the runs.\n",
    "\n",
    "If you prefer not to use notebooks, you should deliver the code, your run results, and a pdf-report where you answer all the questions and explain your work.\n",
    "\n",
    "Your report/notebook should contain your name and username.\n",
    "\n",
    "Deliver one single zipped folder (.zip, .tgz or .tar.gz) which contains your complete solution.\n",
    "\n",
    "Important: if you weren’t able to finish the assignment, use the PDF report/Markdown to elaborate on what you’ve tried and what problems you encountered. Students who have made an effort and attempted all parts of the assignment will get a second chance even if they fail initially. This exercise will be graded PASS/FAIL.\n"
   ]
  },
  {
   "cell_type": "markdown",
   "metadata": {},
   "source": [
    "### Goals of the exercise\n",
    "This exercise has three parts. The goal of the first part is to get more experience with supervised classification. We will use simple synthetic datasets and focus on the learning algorithms. \n",
    "\n",
    "The goal of the second part is to consider the implementaion of the  Multi-layer feed forward neural network, often called Multi-layer perceptron (MLP).\n",
    "\n",
    "The third part, which is the smallest one, is dedicated to evaluation.\n",
    "\n",
    "### Tools\n",
    "The aim of the exercises is to give you a look inside the learning algorithms. You may freely use code from the weekly exercises and the published solutions. You should not use ML libraries like scikit-learn or tensorflow.\n",
    "\n",
    "You may use tools like NumPy and Pandas, which are not specific ML-tools.\n",
    "\n",
    "### Beware\n",
    "There might occur typos or ambiguities. If anything is unclear, do not hesitate to ask. Also, if you think some assumptions are missing, make your own and explain them!"
   ]
  },
  {
   "cell_type": "markdown",
   "metadata": {},
   "source": [
    "### Initialization"
   ]
  },
  {
   "cell_type": "code",
   "execution_count": 1,
   "metadata": {},
   "outputs": [],
   "source": [
    "import numpy as np\n",
    "import matplotlib.pyplot as plt\n",
    "import sklearn\n",
    "from sklearn import datasets\n",
    "import random"
   ]
  },
  {
   "cell_type": "markdown",
   "metadata": {},
   "source": [
    "# Part 1: Comparing classifiers\n",
    "## Datasets\n",
    "We start by making a synthetic dataset of 1600 datapoints and three classes, with 800 individuals in one class and 400 in each of the two other classes. (See https://scikit-learn.org/stable/modules/generated/sklearn.datasets.make_blobs.html#sklearn.datasets.make_blobs regarding how the data are generated.)\n",
    "\n",
    "When we are doing experiments in supervised learning, and the data are not already split into training and test sets, we should start by splitting the data. Sometimes there are natural ways to split the data, say training on data from one year and testing on data from a later year, but if that is not the case, we should shuffle the data randomly before splitting. (OK, that is not necessary with this particular synthetic data set, since it is already shuffled by default by scikit, but that will not be the case with real-world data.) We should split the data so that we keep the alignment between X and t, which may be achieved by shuffling the indices. We split into 50% for training, 25% for validation, and 25% for final testing. The set for final testing *must not be used* till the end of the assignment in part 3.\n",
    "\n",
    "We fix the seed both for data set generation and for shuffling, so that we work on the same datasets when we rerun the experiments."
   ]
  },
  {
   "cell_type": "code",
   "execution_count": 2,
   "metadata": {},
   "outputs": [],
   "source": [
    "from sklearn.datasets import make_blobs\n",
    "X, t = make_blobs(n_samples=[400,800,400], centers=[[0,0],[1,2],[2,3]], \n",
    "                  n_features=2, random_state=2019)"
   ]
  },
  {
   "cell_type": "code",
   "execution_count": 3,
   "metadata": {},
   "outputs": [
    {
     "data": {
      "text/plain": [
       "array([1301,  293,  968,  624,  658,  574,  433,  368,  512,  353])"
      ]
     },
     "execution_count": 3,
     "metadata": {},
     "output_type": "execute_result"
    }
   ],
   "source": [
    "indices = np.arange(X.shape[0])\n",
    "random.seed(2020)\n",
    "random.shuffle(indices)\n",
    "indices[:10]"
   ]
  },
  {
   "cell_type": "code",
   "execution_count": 4,
   "metadata": {},
   "outputs": [],
   "source": [
    "X_train = X[indices[:800],:]\n",
    "X_val = X[indices[800:1200],:]\n",
    "X_test = X[indices[1200:],:]\n",
    "t_train = t[indices[:800]]\n",
    "t_val = t[indices[800:1200]]\n",
    "t_test = t[indices[1200:]]"
   ]
  },
  {
   "cell_type": "markdown",
   "metadata": {},
   "source": [
    "Next, we will  make a second dataset by merging the two smaller classes in (X,t) and call the new set (X, t2). This will be a binary set."
   ]
  },
  {
   "cell_type": "code",
   "execution_count": 5,
   "metadata": {},
   "outputs": [],
   "source": [
    "t2_train = t_train == 1\n",
    "t2_train = t2_train.astype('int')\n",
    "t2_val = (t_val == 1).astype('int')\n",
    "t2_test = (t_test == 1).astype('int')"
   ]
  },
  {
   "cell_type": "markdown",
   "metadata": {},
   "source": [
    "Plot the two training sets."
   ]
  },
  {
   "cell_type": "code",
   "execution_count": 6,
   "metadata": {},
   "outputs": [],
   "source": [
    "# from weekly task solution\n",
    "def show(X, y, marker='.'):\n",
    "    \"\"\"\n",
    "    With set X and labels y, plots the points with a different colors for each class on the plot. \n",
    "    \n",
    "    Args:\n",
    "        X(numpy ndarray): Set, where each index is the position on the plot\n",
    "        y(numpy array):   Lable for each instance in X\n",
    "    \"\"\"\n",
    "    plt.figure() # to make it plot on new figure\n",
    "    labels = set(y)\n",
    "    cl = {lab : [] for lab in labels}\n",
    "    # cl[lab] shall contain the datapoints labeled lab\n",
    "    for (a, b) in zip(X, y):\n",
    "        cl[b].append(a)\n",
    "    for lab in labels:\n",
    "        plt.plot([a[0] for a in cl[lab]], [a[1] for a in cl[lab]], \n",
    "                 marker, label=\"class {}\".format(lab))\n",
    "    plt.legend()"
   ]
  },
  {
   "cell_type": "code",
   "execution_count": 7,
   "metadata": {},
   "outputs": [
    {
     "data": {
      "image/png": "[encoded data removed]",
      "text/plain": [
       "<Figure size 432x288 with 1 Axes>"
      ]
     },
     "metadata": {
      "needs_background": "light"
     },
     "output_type": "display_data"
    },
    {
     "data": {
      "image/png": "[encoded data removed]",
      "text/plain": [
       "<Figure size 432x288 with 1 Axes>"
      ]
     },
     "metadata": {
      "needs_background": "light"
     },
     "output_type": "display_data"
    }
   ],
   "source": [
    "show(X_train, t_train)\n",
    "show(X_train, t2_train)"
   ]
  },
  {
   "cell_type": "markdown",
   "metadata": {},
   "source": [
    "## Binary classifiers"
   ]
  },
  {
   "cell_type": "markdown",
   "metadata": {},
   "source": [
    "### Linear regression\n",
    "We see that that set (X, t2) is far from linearly separable, and we will explore how various classifiers are able to handle this. We start with linear regression. You may use the implementation from exercise set week07 or make your own. You should make one improvement. The implementation week07 runs for a set number of epochs. You provide the number of epochs with a parameter to the fit-method. However, you do not know what a reasonable number of epochs is. Add one more argument to the fit-method *diff* (with defualt value e.g. 0.001). The training should stop when the update is less than *diff*. The *diff* will save training time, but it may also be wise to not set it too small -- and not run training for too long -- to avoid overfitting.\n",
    "\n",
    "Train the classifier on (X_train, t2_train) and test for accuracy on (X_val, t2_val) for various values of *diff*. Choose what you think is optimal *diff*. Report accuracy and save it for later."
   ]
  },
  {
   "cell_type": "code",
   "execution_count": 8,
   "metadata": {},
   "outputs": [],
   "source": [
    "def mse(y, y_pred):\n",
    "    \"\"\"\n",
    "    Calculates mean square error\n",
    "    \n",
    "    Args:\n",
    "        y(numpy ndarray):          Set, where each index is the position on the plot\n",
    "        y_pred(numpy array):       Lable for each instance in X\n",
    "    Returns:\n",
    "        mean_squared_error(float): Mean square error\n",
    "    \"\"\"\n",
    "    sum_errors = 0.\n",
    "    for i in range(0,len(y)):\n",
    "        sum_errors += (y[i] - y_pred[i])**2\n",
    "    mean_squared_error = sum_errors/len(y)\n",
    "    return mean_squared_error"
   ]
  },
  {
   "cell_type": "code",
   "execution_count": 9,
   "metadata": {},
   "outputs": [],
   "source": [
    "def add_bias(X):\n",
    "    \"\"\"\n",
    "    Adds a bias in index 0 in X ndarray.\n",
    "    \n",
    "    Args:\n",
    "        X(numpy ndarray): Ndarray that we will add bias to\n",
    "    Returns:\n",
    "        _(numpy ndarray): Array with the added bias\n",
    "    \"\"\"\n",
    "    # Put bias in position 0\n",
    "    sh = X.shape\n",
    "    if len(sh) == 1:\n",
    "        #X is a vector\n",
    "        return np.concatenate([np.array([1]), X])\n",
    "    else:\n",
    "        # X is a matrix\n",
    "        m = sh[0]\n",
    "        bias = np.ones((m,1)) # Makes a m*1 matrix of 1-s\n",
    "        return np.concatenate([bias, X], axis  = 1) "
   ]
  },
  {
   "cell_type": "code",
   "execution_count": 10,
   "metadata": {},
   "outputs": [],
   "source": [
    "class NumpyClassifier():\n",
    "    \"\"\"Common methods to all numpy classifiers --- if any\"\"\"\n",
    "    \n",
    "    def accuracy(self,X_test, y_test, **kwargs):\n",
    "        pred = self.predict(X_test, **kwargs)\n",
    "        if len(pred.shape) > 1:\n",
    "            pred = pred[:,0]\n",
    "        return sum(pred==y_test)/len(pred)"
   ]
  },
  {
   "cell_type": "code",
   "execution_count": 11,
   "metadata": {},
   "outputs": [],
   "source": [
    "# Implementation from week 7 tasks\n",
    "class NumpyLinRegClass(NumpyClassifier):\n",
    "\n",
    "    def fit(self, X_train, t_train, eta = 0.1, diff=0.001):\n",
    "        \"\"\"X_train is a Nxm matrix, N data points, m features\n",
    "        t_train are the targets values for training data\"\"\"\n",
    "        \n",
    "        (k, m) = X_train.shape\n",
    "        X_train = add_bias(X_train)\n",
    "        self.weights = weights = np.zeros(m+1)\n",
    "        curDiff = 1\n",
    "        \n",
    "        while curDiff > diff:\n",
    "            oldError = mse(t_train, X_train @ weights)\n",
    "            weights -= eta / k *  X_train.T @ (X_train @ weights - t_train)      \n",
    "            newError = mse(t_train, X_train @ weights)\n",
    "            curDiff = oldError - newError\n",
    "            \n",
    "            \n",
    "    def predict(self, x, threshold=0.5):\n",
    "        \"\"\"Predict the value for the item x\"\"\"\n",
    "        z = add_bias(x)\n",
    "        score = z @ self.weights\n",
    "        return score>threshold"
   ]
  },
  {
   "cell_type": "code",
   "execution_count": 12,
   "metadata": {},
   "outputs": [
    {
     "data": {
      "text/plain": [
       "0.6"
      ]
     },
     "execution_count": 12,
     "metadata": {},
     "output_type": "execute_result"
    }
   ],
   "source": [
    "lin_cl = NumpyLinRegClass()\n",
    "lin_cl.fit(X_train, t2_train, 0.1, 0.000001)\n",
    "lin_cl.accuracy(X_val, t2_val)"
   ]
  },
  {
   "cell_type": "markdown",
   "metadata": {},
   "source": [
    "### Logistic regression\n",
    "Do the same for logistic regression, i.e., add the *diff*, tune it, report accuracy, and store it for later."
   ]
  },
  {
   "cell_type": "code",
   "execution_count": 13,
   "metadata": {},
   "outputs": [],
   "source": [
    "def logistic(x):\n",
    "    return 1/(1+np.exp(-x))\n",
    "\n",
    "# Implementation from week 7 tasks\n",
    "class NumpyLogReg(NumpyClassifier):\n",
    "\n",
    "    def fit(self, X_train, t_train, eta = 0.1, diff=0.001):\n",
    "        \"\"\"X_train is a Nxm matrix, N data points, m features\n",
    "        t_train are the targets values for training data\"\"\"\n",
    "        \n",
    "        (k, m) = X_train.shape\n",
    "        X_train = add_bias(X_train)\n",
    "        \n",
    "        self.weights = weights = np.zeros(m+1)\n",
    "        curDiff = 1\n",
    "        \n",
    "        while curDiff > diff:\n",
    "            oldError = mse(t_train, X_train @ weights)\n",
    "            weights -= eta / k *  X_train.T @ (self.forward(X_train) - t_train)     \n",
    "            newError = mse(t_train, X_train @ weights)\n",
    "            curDiff = oldError - newError      \n",
    "    \n",
    "    def forward(self, X):\n",
    "        return logistic(X @ self.weights)\n",
    "    \n",
    "    def score(self, x):\n",
    "        z = add_bias(x)\n",
    "        score = self.forward(z)\n",
    "        return score\n",
    "    \n",
    "    def predict(self, x, threshold=0.5):\n",
    "        \"\"\"Predict the value for the item x\"\"\"\n",
    "        z = add_bias(x)\n",
    "        score = self.forward(z)\n",
    "        return (score>threshold).astype('int')"
   ]
  },
  {
   "cell_type": "code",
   "execution_count": 14,
   "metadata": {},
   "outputs": [
    {
     "data": {
      "text/plain": [
       "0.6"
      ]
     },
     "execution_count": 14,
     "metadata": {},
     "output_type": "execute_result"
    }
   ],
   "source": [
    "lr_cl = NumpyLogReg()\n",
    "lr_cl.fit(X_train, t2_train, 0.1, 0.001)\n",
    "lr_cl.accuracy(X_val, t2_val)"
   ]
  },
  {
   "cell_type": "markdown",
   "metadata": {},
   "source": [
    "### *k*-nearest neighbors (*k*NN)\n",
    "We will now compare to the *k*-nearest neighbors classifier. You may use the implementation from the week05 exercise set. Beware, though, that we represented the data differently from what we do here, using Python lists instead of numpy arrays. You might have to either modify the representation of the data or the code a little.\n",
    "\n",
    "Train on (X_train, t2_train) and test on (X2_val, t2_val) for various values of *k*. Choose the best *k*, report accuracy and store for later."
   ]
  },
  {
   "cell_type": "code",
   "execution_count": 15,
   "metadata": {},
   "outputs": [],
   "source": [
    "from collections import Counter\n",
    "\n",
    "def distance_L2(a, b):\n",
    "    \"L2-distance using comprehension\"\n",
    "    s = sum((x - y) ** 2 for (x,y) in zip(a,b))\n",
    "    return s ** 0.5\n",
    "\n",
    "def majority(a):\n",
    "    counts = Counter(a)\n",
    "    return counts.most_common()[0][0]"
   ]
  },
  {
   "cell_type": "code",
   "execution_count": 16,
   "metadata": {},
   "outputs": [],
   "source": [
    "# Implementation from week 5 task\n",
    "class PyClassifier():\n",
    "    \"\"\"Common methods to all python classifiers --- if any\"\"\"\n",
    "    \n",
    "    def accuracy(self,X_test, y_test, **kwargs):\n",
    "        \"\"\"Calculate the accuracy of the classifier \n",
    "        using the predict method\"\"\"\n",
    "        predicted = [self.predict(a, **kwargs) for a in X_test]\n",
    "        equal = len([(p, g) for (p,g) in zip(predicted, y_test) if p==g])\n",
    "        return equal / len(y_test)\n"
   ]
  },
  {
   "cell_type": "code",
   "execution_count": 17,
   "metadata": {},
   "outputs": [],
   "source": [
    "class PykNNClassifier(PyClassifier):\n",
    "    \"\"\"kNN classifier using pure python representations\"\"\"\n",
    "    \n",
    "    def __init__(self, k=3, dist=distance_L2):\n",
    "        self.k = k\n",
    "        self.dist = dist\n",
    "        \n",
    "    def fit(self, X_train, y_train):\n",
    "        self.X_train = X_train\n",
    "        self.y_train = y_train\n",
    "    \n",
    "    def predict(self, a):\n",
    "        \"\"\"Predict the value for the item x\"\"\"\n",
    "        X = self.X_train\n",
    "        y = self.y_train\n",
    "        distances = [(self.dist(a, b), b, c) for (b, c) in zip(X, y)]\n",
    "        distances.sort()\n",
    "        predictors = [c for (_,_,c) in distances[0: self.k]]\n",
    "        return majority(predictors)"
   ]
  },
  {
   "cell_type": "code",
   "execution_count": 18,
   "metadata": {},
   "outputs": [
    {
     "name": "stdout",
     "output_type": "stream",
     "text": [
      "Best kNN accuracy: 0.7675 is for k = 14. (Range: 1 to 20)\n"
     ]
    }
   ],
   "source": [
    "bestAcc = 0\n",
    "k = 0\n",
    "for i in range(1, 20):\n",
    "    cls = PykNNClassifier(k=i)\n",
    "    cls.fit(X_train.tolist(), t2_train.tolist())\n",
    "    acc = cls.accuracy(X_val.tolist(), t2_val.tolist())\n",
    "    if acc > bestAcc:\n",
    "        bestAcc = acc \n",
    "        k = i\n",
    "\n",
    "print(f\"Best kNN accuracy: {bestAcc} is for k = {k}. (Range: 1 to 20)\")"
   ]
  },
  {
   "cell_type": "markdown",
   "metadata": {},
   "source": [
    "### Simple perceptron\n",
    "Finally, run the simple perceptron (week06) on the same set, and report and store accuracy."
   ]
  },
  {
   "cell_type": "code",
   "execution_count": 19,
   "metadata": {},
   "outputs": [],
   "source": [
    "class PyPerClassifier(PyClassifier):\n",
    "    \"\"\"Simple perceptron python classifier\"\"\"\n",
    "    \n",
    "    def fit(self, X_train, y_train, eta=1, epochs=1):\n",
    "        \"\"\"Train the self.weights on the training data with learning\n",
    "        rate eta, running epochs many epochs\"\"\"\n",
    "        X_train = [[1]+list(x) for x in X_train] # Put bias in position 0      \n",
    "        self.dim = dim = len(X_train[0])\n",
    "        self.weights = weights = [0 for _ in range(dim)]\n",
    "        # Initialize all weights to 0.\n",
    "        for e in range(epochs):\n",
    "            for x, t in zip(X_train, y_train):\n",
    "                y = int(self.forward(x)>0)\n",
    "                for i in range(dim):\n",
    "                    weights[i] -= eta * (y - t) * x[i]\n",
    "        \n",
    "    def forward(self, x):\n",
    "        \"\"\"Calculate the score for the item x\"\"\"\n",
    "        score = sum([self.weights[i]*x[i] for i in range(self.dim)])\n",
    "        return score       \n",
    "    \n",
    "    def predict(self, x):\n",
    "        \"\"\"Predict the value for the item x\"\"\"\n",
    "        x = [1] + list(x)\n",
    "        score = self.forward(x)\n",
    "        return int(score > 0)"
   ]
  },
  {
   "cell_type": "code",
   "execution_count": 20,
   "metadata": {},
   "outputs": [
    {
     "name": "stdout",
     "output_type": "stream",
     "text": [
      "Best perceptron accuracy: 0.6625 is after 17 epoch. (Range: 1 to 25)\n"
     ]
    }
   ],
   "source": [
    "bestAcc = 0\n",
    "epoch = 0\n",
    "for i in range(1,25):\n",
    "    cl = PyPerClassifier()\n",
    "    cl.fit(X_train.tolist(), t2_train.tolist(), eta= 0.1, epochs = i)\n",
    "    acc = cl.accuracy(X_val.tolist(), t2_val.tolist())\n",
    "    if acc > bestAcc:\n",
    "        bestAcc = acc\n",
    "        epoch = i\n",
    "        \n",
    "print(f\"Best perceptron accuracy: {bestAcc} is after {epoch} epoch. (Range: 1 to 25)\")"
   ]
  },
  {
   "cell_type": "markdown",
   "metadata": {},
   "source": [
    "### Summary\n",
    "Report the accuracies for the four classifiers in a table.\n",
    "\n",
    "Write a couple of sentences where you comment on what you see. Are the results as you expected?"
   ]
  },
  {
   "cell_type": "markdown",
   "metadata": {},
   "source": [
    "| Classifier | Accuracy |\n",
    "| --- | --- |\n",
    "| Linear regression | 0.6 |\n",
    "| Logistic regression | 0.6 |\n",
    "| kNN | 0.7675 |\n",
    "| Simple perceptron | 0.6625 |"
   ]
  },
  {
   "cell_type": "markdown",
   "metadata": {},
   "source": [
    "Looks like best accuracy is for k-nearest neighbors. It is actually what I expected. \n",
    "\n",
    "I didn't had any hope for linear regression and logistic regression, because from the plot above it is easy to see that data is not well suitable for linear/logistic classifiers. Moreover we had to classes in test2, and they didn't had good separation, so it is hard to find a good position for line.\n",
    "\n",
    "I was also expecting that Simple perceptron will be very close to the Linear/Logistic regression, because simple perceptron is a type of linear classifier. However it does not look that that. The result for Simple perceptron is better than for logistic/linear regression. So this is kind of weird for me."
   ]
  },
  {
   "cell_type": "markdown",
   "metadata": {},
   "source": [
    "## Multi-class classifiers\n",
    "We turn to the task of classifying when there are more than two classes, and the task is to ascribe one class to each input. We will now use the set (X, t)."
   ]
  },
  {
   "cell_type": "markdown",
   "metadata": {},
   "source": [
    "### *k*NN\n",
    "One of the classifiers can handle multiple classes without modifications: the *k*-nearest neighbors classifier. Train it on (X_train, t_train), test it on (X_val, t_val) for various values of *k*. Choose the one you find best and report the accuracy."
   ]
  },
  {
   "cell_type": "code",
   "execution_count": 21,
   "metadata": {},
   "outputs": [
    {
     "name": "stdout",
     "output_type": "stream",
     "text": [
      "Best kNN accuracy: 0.77 is for k = 14. (Range: 1 to 20)\n"
     ]
    }
   ],
   "source": [
    "bestAcc = 0\n",
    "k = 0\n",
    "for i in range(1, 20):\n",
    "    cls = PykNNClassifier(k=i)\n",
    "    cls.fit(X_train.tolist(), t_train.tolist())\n",
    "    acc = cls.accuracy(X_val.tolist(), t_val.tolist())\n",
    "    if acc > bestAcc:\n",
    "        bestAcc = acc \n",
    "        k = i\n",
    "\n",
    "print(f\"Best kNN accuracy: {bestAcc} is for k = {k}. (Range: 1 to 20)\")"
   ]
  },
  {
   "cell_type": "markdown",
   "metadata": {},
   "source": [
    "### Logistic regression \"one-vs-rest\"\n",
    "We saw in the lecture how a logistic regression classifier can be turned into a multi-class classifier using the one-vs-rest approach. We train one classifier for each class and assign the class which ascribes the highest probability.\n",
    "\n",
    "Extend the logisitc regression classifier to a multi-class classifier. To do this, you must modify the target values from scalars to arrays. Train the resulting classifier on (X_train, t_train), test it on (X_val, t_val), and report the accuracy."
   ]
  },
  {
   "cell_type": "markdown",
   "metadata": {},
   "source": [
    "--------------------------------------------"
   ]
  },
  {
   "cell_type": "markdown",
   "metadata": {},
   "source": [
    "To make it work, I need, for each class, make other classes as the same class. So if we have 3 classes. First trained classifier will be for class 1 while class 2 and 3 is the same class (so it is like to have 2 classes). Second trained classifier will be for class 2 while class 1 and 3 is the same class. Last trained classifier will be class 3 while class 1 and 2 is the same class."
   ]
  },
  {
   "cell_type": "code",
   "execution_count": 22,
   "metadata": {},
   "outputs": [
    {
     "name": "stdout",
     "output_type": "stream",
     "text": [
      "Class 0 accuracy: 0.81\n",
      "Class 1 accuracy: 0.6\n",
      "Class 2 accuracy: 0.7425\n",
      "Avarage accuracy for Logistic Regression: 0.7175000000000001\n"
     ]
    }
   ],
   "source": [
    "# We have data with 3 classes for train and valuation:\n",
    "# X_train, X_val.\n",
    "# t_train, t_val.\n",
    "# show(X_train, t_train)\n",
    "\n",
    "all_acc = []\n",
    "for i in set(t_train): # so it can work for any number of classes, not only 3.\n",
    "    lr_cl = NumpyLogReg()\n",
    "    # This part of the code is from the given precode in this assignment.\n",
    "    tnew_train = (t_train == i).astype('int')\n",
    "    tnew_val = (t_val == i).astype('int')\n",
    "    #show(X_train, tnew_train) # for testing\n",
    "    lr_cl.fit(X_train, tnew_train, 0.1, 0.001)\n",
    "    acc = lr_cl.accuracy(X_val, tnew_val)\n",
    "    all_acc.append(acc)\n",
    "\n",
    "    print(f\"Class {i} accuracy: {acc}\")\n",
    "    \n",
    "print(f\"Avarage accuracy for Logistic Regression: {sum(all_acc)/len(all_acc)}\")"
   ]
  },
  {
   "cell_type": "markdown",
   "metadata": {},
   "source": [
    "Discuss the results in a couple of sentences, addressing questions like\n",
    "\n",
    "- How do the two classfiers compare?\n",
    "- How do the results on the three-class classification task compare to the results on the binary task?\n",
    "- What do you think are the reasons for the differences?"
   ]
  },
  {
   "cell_type": "markdown",
   "metadata": {},
   "source": [
    "    - kNN had better accuracy, with 0.05 more than Logistic regression. I think reason for that is that for some classes accuracy is worse than for others, as we can see from the results (Class 1 acc: 0.6, however class 0 acc: 0.81). This is because data for class 1 is located in between class 0 and class 2.\n",
    "    - kNN had a little better accuracy with three-class classification, than with binary. However I can say that both are almost equal. Moreover logistic regression did a bit better too (If I calculated total accuracy right). Because One-vs-Rest is like a binary classifier but multiple times.\n",
    "    - I think the reason for that kNN have almost identical accuracy is that it is good suited for any number of classes. Because we use the same method for any number of classes. But for One-vs-Rest we will get sometimes bad accuracy for some classes, and maybe better accuracy for some other classes. The position of \"main\" class and all other classes can play a big role in that.\n",
    "    \n",
    "    "
   ]
  },
  {
   "cell_type": "markdown",
   "metadata": {},
   "source": [
    "## Adding non-linear features"
   ]
  },
  {
   "cell_type": "markdown",
   "metadata": {},
   "source": [
    "We are returning to the binary classifier and the set (X, t2). As we see, some of the classifiers are not doing too well on the (X, t2) set. It is easy to see from the plot that this data set is not well suited for linear classifiers. There are several possible options for trying to learn on such a set. One is to construct new features from the original features to get better discriminants. This works e.g., for the XOR-problem. The current classifiers use two features: $x_1$ and $x_2$ (and a bias term $x_0$). Try to add three additional features of the form ${x_1}^2$, ${x_2}^2$, $x_1*x_2$ to the original features and see what the accuracies are now. Compare to the results for the original features in a 4x2 table.\n",
    "\n"
   ]
  },
  {
   "cell_type": "code",
   "execution_count": 23,
   "metadata": {},
   "outputs": [
    {
     "name": "stdout",
     "output_type": "stream",
     "text": [
      "Linear regression: 0.7325\n",
      "Logistic regression: 0.52\n",
      "Best kNN accuracy: 0.7525 is for k = 13. (Range: 1 to 20)\n",
      "Best perceptron accuracy: 0.6275 is after 38 epoch. (Range: 1 to 40)\n"
     ]
    }
   ],
   "source": [
    "def addNewFeatures(ndarr):\n",
    "    \"\"\"Adds new features\"\"\"\n",
    "    \n",
    "    x1_sq = ndarr[:,0]**2\n",
    "    x2_sq = ndarr[:,1]**2\n",
    "    x1x2 = np.multiply(x1_sq,x2_sq)\n",
    "    \n",
    "    x1_sq = x1_sq.reshape(x1_sq.shape + (1,))\n",
    "    x2_sq = x2_sq.reshape(x2_sq.shape + (1,))\n",
    "    x1x2 = x1x2.reshape(x1x2.shape + (1,))\n",
    "    \n",
    "    ret_arr = ndarr\n",
    "    ret_arr = np.append(ret_arr, x1_sq, axis=1)\n",
    "    ret_arr = np.append(ret_arr, x2_sq, axis=1)\n",
    "    ret_arr = np.append(ret_arr, x1x2, axis=1)\n",
    "    \n",
    "    return ret_arr\n",
    "    \n",
    "\n",
    "# Creating new datasets by adding new features\n",
    "Xnew_train = addNewFeatures(X_train)\n",
    "Xnew_val = addNewFeatures(X_val)\n",
    "\n",
    "# Linear regression\n",
    "lin_cl = NumpyLinRegClass()\n",
    "lin_cl.fit(Xnew_train, t2_train, 0.001, 0.00001) # changed learning rate\n",
    "print(f\"Linear regression: {lin_cl.accuracy(Xnew_val, t2_val)}\")\n",
    "\n",
    "# Logistic regression\n",
    "lr_cl = NumpyLogReg()\n",
    "lr_cl.fit(Xnew_train, t2_train, 0.1, 0.1)\n",
    "print(f\"Logistic regression: {lr_cl.accuracy(Xnew_val, t2_val)}\")\n",
    "\n",
    "# kNN\n",
    "bestAcc = 0\n",
    "k = 0\n",
    "for i in range(1, 20):\n",
    "    cls = PykNNClassifier(k=i)\n",
    "    cls.fit(Xnew_train.tolist(), t2_train.tolist())\n",
    "    acc = cls.accuracy(Xnew_val.tolist(), t2_val.tolist())\n",
    "    if acc > bestAcc:\n",
    "        bestAcc = acc \n",
    "        k = i\n",
    "\n",
    "print(f\"Best kNN accuracy: {bestAcc} is for k = {k}. (Range: 1 to 20)\")\n",
    "\n",
    "# Simple perceptron\n",
    "bestAcc = 0\n",
    "epoch = 0\n",
    "for i in range(1,40):\n",
    "    cl = PyPerClassifier()\n",
    "    cl.fit(Xnew_train.tolist(), t2_train.tolist(), eta= 0.1, epochs = i)\n",
    "    acc = cl.accuracy(Xnew_val.tolist(), t2_val.tolist())\n",
    "    if acc > bestAcc:\n",
    "        bestAcc = acc\n",
    "        epoch = i\n",
    "        \n",
    "print(f\"Best perceptron accuracy: {bestAcc} is after {epoch} epoch. (Range: 1 to 40)\")\n"
   ]
  },
  {
   "cell_type": "markdown",
   "metadata": {},
   "source": [
    "| Classifier | Accuracy | Change |\n",
    "| --- | --- | --- |\n",
    "| Linear regression | 0.7325 | higher |\n",
    "| Logistic regression | 0.52 | lower |\n",
    "| kNN | 0.7525 | lower |\n",
    "| Simple perceptron | 0.6275 | lower |\n"
   ]
  },
  {
   "cell_type": "markdown",
   "metadata": {},
   "source": [
    "Explain in a couple of sentences what effect the non-linear features have on the various classifiers. (By the way, some of the classifiers could probably achieve better results if we scaled the data, but we postpone scaling to part 2 of the assignment.)"
   ]
  },
  {
   "cell_type": "markdown",
   "metadata": {},
   "source": [
    "---------------------"
   ]
  },
  {
   "cell_type": "markdown",
   "metadata": {},
   "source": [
    "Linear regression did very well. However I had to change learning rate in linear regression, from 0.1 to 0.001, to make it more accurate. It runs slower but it have more accurate answer. \n",
    "\n",
    "All others classifiers lost a bit in accuracy."
   ]
  },
  {
   "cell_type": "markdown",
   "metadata": {},
   "source": [
    "# Part II\n",
    "## Multi-layer neural networks\n",
    "We will implement the Multi-layer feed forward network (MLP, Marsland sec. 4.2.1). We will do so in two steps. In the first step, we will work concretely with the dataset (X, t). We will initialize the network and run a first round of training, i.e. one pass throught the algorithm at p. 78 in Marsland.\n",
    "\n",
    "In the second step, we will turn this code into a more general classifier. We can train and test this on (X, t), but also on other datasets.\n",
    "\n",
    "First of all, you should scale the X."
   ]
  },
  {
   "cell_type": "code",
   "execution_count": 24,
   "metadata": {},
   "outputs": [],
   "source": [
    "# Scaling of X_train\n",
    "# From Normalization and Standarization, I decided to use min-max normalization.\n",
    "x_max = np.max(X_train)\n",
    "x_min = np.min(X_train)\n",
    "X_train_scaled = (X_train - x_min)/(x_max - x_min)\n",
    "# show(X_train, t_train) # for test\n",
    "# show(X_train_scaled, t_train) # for test\n"
   ]
  },
  {
   "cell_type": "markdown",
   "metadata": {},
   "source": [
    "## Step1: One round of training"
   ]
  },
  {
   "cell_type": "markdown",
   "metadata": {},
   "source": [
    "### Initialization\n",
    "We will only use one hidden layer. The number of nodes in the hidden layer will be a hyper-parameter provided by the user; let's call it *dim_hidden*. (*dim_hidden* is called *M* by Marsland.) Initially, we will set it to 6. This is a hyper-parameter where other values may give better results, and the hyper-parameter could be tuned.\n",
    "\n",
    "Another hyper-parameter set by the user is the learning rate. We set the initial value to 0.01, but also this may need tuning."
   ]
  },
  {
   "cell_type": "code",
   "execution_count": 25,
   "metadata": {},
   "outputs": [],
   "source": [
    "eta = 0.01 # Learning rate\n",
    "dim_hidden = 6"
   ]
  },
  {
   "cell_type": "markdown",
   "metadata": {},
   "source": [
    "We assume that the input *X_train* (after scaling) is a matrix of dimension *P x dim_in*, where *P* is the number of training instances, and *dim_in* is the number of features in the training instances (*L* in Marsland). Hence we can read *dim_in* off from *X_train*. Similarly, we can read *dim_out* off from *t_train*. Beware that *t_train* must be given the form of *P x dim_out* at some point, cf. the \"one-vs-all\" exercise above."
   ]
  },
  {
   "cell_type": "code",
   "execution_count": 26,
   "metadata": {},
   "outputs": [],
   "source": [
    "dim_in = X_train.shape[1]\n",
    "dim_out = len(set(t_train))"
   ]
  },
  {
   "cell_type": "markdown",
   "metadata": {},
   "source": [
    "We need two sets of weights: weights1 between the input and the hidden layer, and weights2, between the hidden layer and the output. Make the weight matrices and initialize them to small random numbers. Make sure that you take the bias terms into consideration and get the correct dimensions."
   ]
  },
  {
   "cell_type": "code",
   "execution_count": 27,
   "metadata": {},
   "outputs": [],
   "source": [
    "# We have dim_in = 2 and dim_out = 3, while hidden layer will have 6. \n",
    "# So we need to have: 2-> 6 -> 3\n",
    "weights1 = np.random.rand(dim_in, dim_hidden) # between input and the hidden layer\n",
    "weights2 = np.random.rand(dim_hidden, dim_out) # between hidden layer and the output\n",
    "\n",
    "bias1 = np.zeros(dim_hidden)\n",
    "bias2 = np.zeros(dim_out)"
   ]
  },
  {
   "cell_type": "markdown",
   "metadata": {},
   "source": [
    "### Forwards phase\n",
    "We will run the first step in the training, and start with the forward phase. Calculate the activations after the hidden layer and after the output layer. We will follow Marsland and use the logistic (sigmoid) activation function in both layers. Inspect whether the results seem reasonable with respect to format and values."
   ]
  },
  {
   "cell_type": "code",
   "execution_count": 28,
   "metadata": {},
   "outputs": [
    {
     "name": "stdout",
     "output_type": "stream",
     "text": [
      "(800, 6)\n",
      "[[0.66235208 0.62961145 0.64815942 0.6220043  0.66680629 0.53634958]\n",
      " [0.69282244 0.64868947 0.68182936 0.64941095 0.70219242 0.54583179]\n",
      " [0.61994212 0.58334034 0.61964294 0.5960536  0.63187444 0.53000931]\n",
      " ...\n",
      " [0.58927487 0.57104889 0.58068259 0.5660514  0.5915198  0.51935766]\n",
      " [0.68292139 0.64311328 0.67029578 0.64007013 0.69026475 0.54248465]\n",
      " [0.64432604 0.60971846 0.63611708 0.61097583 0.65204923 0.53366625]]\n"
     ]
    }
   ],
   "source": [
    "hidden_activations = logistic((X_train_scaled @ weights1) + bias1)\n",
    "print(hidden_activations.shape)\n",
    "print(hidden_activations)"
   ]
  },
  {
   "cell_type": "code",
   "execution_count": 29,
   "metadata": {},
   "outputs": [
    {
     "name": "stdout",
     "output_type": "stream",
     "text": [
      "(800, 3)\n",
      "[[0.83485071 0.86690096 0.85687126]\n",
      " [0.84469035 0.87465429 0.8656377 ]\n",
      " [0.82458725 0.85721891 0.84548208]\n",
      " ...\n",
      " [0.81260125 0.84821643 0.83530578]\n",
      " [0.84141552 0.87212028 0.86278884]\n",
      " [0.83055888 0.8628501  0.8521123 ]]\n"
     ]
    }
   ],
   "source": [
    "output_activations = logistic((hidden_activations @ weights2) + bias2)\n",
    "print(output_activations.shape)\n",
    "print(output_activations)"
   ]
  },
  {
   "cell_type": "markdown",
   "metadata": {},
   "source": [
    "### Backwards phase\n",
    "Calculate the delta terms at the output. We assume, like Marsland, that we use sums of squared errors. (This amounts to the same as using the mean square error)."
   ]
  },
  {
   "cell_type": "code",
   "execution_count": 30,
   "metadata": {},
   "outputs": [],
   "source": [
    "t_train_new = np.zeros((len(X_train[:,0]), dim_out))\n",
    "t_train_new[t_train == 0] = [1,0,0]\n",
    "t_train_new[t_train == 1] = [0,1,0]\n",
    "t_train_new[t_train == 2] = [0,0,1]\n",
    "# print(t_train_new[:20])\n",
    "# print(t_train[:20])\n",
    "\n",
    "# From formula page 78-79 in Marsland\n",
    "output_error = (output_activations - t_train_new)*output_activations*(1-output_activations)\n",
    "# !!! IF (output_activations - t_train_new) so we need to have -= on weigths2 and not +\n",
    "# However if we have (t_train_new - output_activations) we need to have + on wieghts2 change and not -\n",
    "# And also results better with same (- or +) on weights1\n",
    "\n",
    "# output_error = (t_train_new - output_activations)*output_activations*(1-output_activations)\n"
   ]
  },
  {
   "cell_type": "markdown",
   "metadata": {},
   "source": [
    "Calculate the delta terms in the hidden layer."
   ]
  },
  {
   "cell_type": "code",
   "execution_count": 31,
   "metadata": {},
   "outputs": [],
   "source": [
    "hidden_error = hidden_activations * (1-hidden_activations)*(output_error @ weights2.T)"
   ]
  },
  {
   "cell_type": "markdown",
   "metadata": {},
   "source": [
    "Update the weights.\n",
    "Check that they have changed.\n",
    "As the weights depend on the random initialization, there is no unique correct solution at this point. But you should be able to see that the weights have been updated."
   ]
  },
  {
   "cell_type": "code",
   "execution_count": 32,
   "metadata": {},
   "outputs": [],
   "source": [
    "weights1 += eta * (X_train_scaled.T @ hidden_error) # between input and the hidden layer\n",
    "weights2 -= eta * (hidden_activations.T @ output_error) # between hidden layer and the output\n",
    "\n",
    "# print(weights1)\n",
    "# print(weights2)"
   ]
  },
  {
   "cell_type": "markdown",
   "metadata": {},
   "source": [
    "##  Step 2: A Multi-layer neural network classifier"
   ]
  },
  {
   "cell_type": "markdown",
   "metadata": {},
   "source": [
    "You want to train and test a classifier on (X, t). You could have put some parts of the code in the last step into a loop and run it through some iterations. But instead of copying code for every network we want to train, we will build a general Multi-layer neural network classfier as a class. This class will have some of the same structure as the classifiers we made for linear and logistic regression. The task consists mainly in copying in parts from what you did in step 1 into the template below. Remember to add the *self*- prefix where needed, and be careful in your use of variable names."
   ]
  },
  {
   "cell_type": "code",
   "execution_count": 33,
   "metadata": {},
   "outputs": [],
   "source": [
    "class MNNClassifier():\n",
    "    \"\"\"A multi-layer neural network with one hidden layer\"\"\"\n",
    "    \n",
    "    def __init__(self,eta = 0.001, dim_hidden = 6):\n",
    "        \"\"\"Initialize the hyperparameters\"\"\"\n",
    "        self.eta = eta\n",
    "        self.dim_hidden = dim_hidden\n",
    "\n",
    "        # Should you put additional code here?\n",
    "        # Not really, because I can define self. variables in other functions.\n",
    "        # However by defining it here and puting value to None, I would make it \n",
    "        # more safe, i guess\n",
    "        # In my case If I am not defining any more self. so I need to be careful,\n",
    "        # because I must not use intanse variables before defining them.\n",
    "        \n",
    "    def fit(self, X_train, t_train, epochs = 100):\n",
    "        \"\"\"Initialize the weights. Train *epochs* many epochs.\"\"\"\n",
    "        \n",
    "        # Initilaization\n",
    "        self.dim_in =  X_train.shape[1]\n",
    "        self.dim_out = len(set(t_train))\n",
    "        \n",
    "        # 1/sqrt(dim_in) from Marsland book recommendation\n",
    "        # between input and the hidden layer\n",
    "        self.weights1 = np.random.rand(self.dim_in, self.dim_hidden)*(1/np.sqrt(self.dim_in))\n",
    "        # between hidden layer and the output\n",
    "        self.weights2 = np.random.rand(self.dim_hidden, self.dim_out)*(1/np.sqrt(self.dim_in))\n",
    "\n",
    "        self.bias1 = np.zeros(self.dim_hidden)\n",
    "        self.bias2 = np.zeros(self.dim_out)\n",
    "        \n",
    "        t_train_new = np.zeros((X_train.shape[0], self.dim_out))\n",
    "        if self.dim_out == 2:\n",
    "            t_train_new[t_train == 0] = [1,0]\n",
    "            t_train_new[t_train == 1] = [0,1]\n",
    "        else:\n",
    "            t_train_new[t_train == 0] = [1,0,0]\n",
    "            t_train_new[t_train == 1] = [0,1,0]\n",
    "            t_train_new[t_train == 2] = [0,0,1]\n",
    "        self.t_train_new = t_train_new\n",
    "        \n",
    "        for e in range(epochs):\n",
    "            # Run one epoch of forward-backward\n",
    "            self.hidden_activations, self.output_activations = self.forward(X_train)\n",
    "            self.backward(X_train)\n",
    "\n",
    "            \n",
    "    def forward(self, X):\n",
    "        \"\"\"Perform one forward step. \n",
    "        Return a pair consisting of the outputs of the hidden_layer\n",
    "        and the outputs on the final layer\"\"\"\n",
    "        hidden_activations = logistic((X @ self.weights1) + self.bias1)\n",
    "        output_activations = logistic((hidden_activations @ self.weights2) + self.bias2)\n",
    "        return hidden_activations, output_activations\n",
    "    \n",
    "    def backward(self, X):\n",
    "        output_error = (self.output_activations - self.t_train_new)*self.output_activations*(1-self.output_activations)\n",
    "        hidden_error = self.hidden_activations * (1-self.hidden_activations)*(output_error @ self.weights2.T)\n",
    "        \n",
    "        self.weights1 -= eta * (X.T @ hidden_error) # between input and the hidden layer\n",
    "        self.weights2 -= eta * (self.hidden_activations.T @ output_error) # between hidden layer and the output\n",
    "        \n",
    "        self.bias1 = self.eta * np.sum(hidden_error, axis=0)\n",
    "        self.bias2 = self.eta * np.sum(output_error, axis=0, keepdims=True)\n",
    "\n",
    "    def accuracy(self, X_test, y_test, **kwargs):\n",
    "        \"\"\"Calculate the accuracy of the classifier on the pair (X_test, t_test)\n",
    "        Return the accuracy\"\"\"\n",
    "        predicted = [self.predict(a, **kwargs) for a in X_test]\n",
    "        equal = len([(p, g) for (p, g) in zip(predicted, y_test) if p==g])\n",
    "        return equal / len(y_test)\n",
    "\n",
    "    def predict(self, X):\n",
    "        \"\"\"Predict the value for the item x\"\"\"\n",
    "        hid, out = self.forward(X)\n",
    "        return out.argmax()"
   ]
  },
  {
   "cell_type": "markdown",
   "metadata": {},
   "source": [
    "Train the network on (X_train, t_train) (after scaling), and test on (X_val, t_val). Adjust hyperparameters or number of epochs if you are not content with the result."
   ]
  },
  {
   "cell_type": "code",
   "execution_count": 34,
   "metadata": {},
   "outputs": [
    {
     "name": "stdout",
     "output_type": "stream",
     "text": [
      "0.5675\n"
     ]
    }
   ],
   "source": [
    "# Train\n",
    "x_max = np.max(X_train)\n",
    "x_min = np.min(X_train)\n",
    "X_train_scaled = (X_train - x_min)/(x_max - x_min)\n",
    "\n",
    "maxList = []\n",
    "for _ in range(1): # can change range to neede value, to check the max accuracy from many runs\n",
    "    mnn = MNNClassifier(0.01, 6)\n",
    "    mnn.fit(X_train_scaled, t_train, 5000)\n",
    "\n",
    "    # Test\n",
    "    x_max = np.max(X_val)\n",
    "    x_min = np.min(X_val)\n",
    "    X_val_scaled = (X_val - x_min)/(x_max - x_min)\n",
    "    acc = mnn.accuracy(X_val_scaled, t_val)\n",
    "    maxList.append(acc)\n",
    "\n",
    "print(max(maxList))\n",
    "# Got 0.675 (1000 epochs, 0.01 learning rate)\n",
    "# Got 0.75  (5000 epochs, 0.01 learning rate)"
   ]
  },
  {
   "cell_type": "markdown",
   "metadata": {},
   "source": [
    "## Make a neural network classifier for (X,t)\n",
    "Let us see whether a multilayer neural network can learn a non-linear classifier.\n",
    "Train it on (X_train, t_train) and test it on (X_val, t_val).\n",
    "Tune the hyper-parameters for the best result."
   ]
  },
  {
   "cell_type": "code",
   "execution_count": 35,
   "metadata": {},
   "outputs": [
    {
     "name": "stdout",
     "output_type": "stream",
     "text": [
      "0.74\n"
     ]
    }
   ],
   "source": [
    "# Wasn't sure what I had to do. So I just tried to letneural network learn without scaling anything\n",
    "maxList = []\n",
    "for _ in range(1):\n",
    "    mnn = MNNClassifier(0.01, 6)\n",
    "    mnn.fit(X_train, t_train, 5000)\n",
    "\n",
    "    maxList.append(mnn.accuracy(X_val, t_val))\n",
    "\n",
    "print(max(maxList))\n",
    "\n",
    "# Got 0.7475 (1000 epochs, 0.01 learning rate)\n",
    "# Got 0.7525 (5000 epochs, 0.01 learning rate)\n",
    "\n",
    "# Feels like Neural network worsk better without scaling (in avarage). Maybe it is how it is supposed \n",
    "# to be or I just did something wrong in scaling"
   ]
  },
  {
   "cell_type": "markdown",
   "metadata": {},
   "source": [
    "## For master's students: Early stopping\n",
    "There is a danger of overfitting if we run too many epochs of training. One way to control that is to use early stopping. We can use (X_val, t_val) as valuation set when training on (X_train, t_train).\n",
    "\n",
    "Let *e=50* or *e=10* (You may try both or choose some other number) After *e* number of epochs, calculate the loss for both the training set (X_train, t_train) and the validation set (X_val, t_val), and plot them as in figure 4.11 in Marsland. \n",
    "\n",
    "Modify the code so that the training stops if the loss on the validation set is not reduced by more than *t* after *e* many epochs, where *t* is a threshold you provide as a parameter. "
   ]
  },
  {
   "cell_type": "markdown",
   "metadata": {},
   "source": [
    "# Part III: Final testing\n",
    "Take the best classifiers that you found for the training sets (X, t) and (X, t2) and test them on (X_test, t_test) and (X_test, t2_test), respectively. Compute accuracy, the confusion matrix, precision and recall. Answer in 2-3 sentences: How do the accuracies compare to the results on the validation sets?"
   ]
  },
  {
   "cell_type": "code",
   "execution_count": 39,
   "metadata": {},
   "outputs": [
    {
     "name": "stdout",
     "output_type": "stream",
     "text": [
      "kNN: (X,t) (X_test, t_test)\n",
      "Accuracy = 0.7475 \n",
      "\n",
      "         Predicted  \n",
      "       [69. 23.  0.]\n",
      "Actual [ 10. 159.  26.]\n",
      "       [ 0. 42. 71.]\n",
      "Class 0 Precision: 0.8734177215189873 Recall: 0.75\n",
      "Class 1 Precision: 0.7098214285714286 Recall: 0.8153846153846154\n",
      "Class 2 Precision: 0.7319587628865979 Recall: 0.6283185840707964\n",
      "\n",
      "kNN: (X,t2) (X_test, t2_test)\n",
      "Accuracy = 0.75 \n",
      "\n",
      "         Predicted  \n",
      "       [141.  64.]\n",
      "Actual [ 36. 159.]\n",
      "Class 0 Precision: 0.7966101694915254 Recall: 0.6878048780487804\n",
      "Class 1 Precision: 0.7130044843049327 Recall: 0.8153846153846154\n",
      "\n",
      "MNN: (X,t) (X_test, t_test)\n",
      "Accuracy = 0.6575 \n",
      "\n",
      "         Predicted  \n",
      "       [72. 20.  0.]\n",
      "Actual [ 10. 185.   0.]\n",
      "       [  0. 107.   6.]\n",
      "Class 0 Precision: 0.8780487804878049 Recall: 0.782608695652174\n",
      "Class 1 Precision: 0.592948717948718 Recall: 0.9487179487179487\n",
      "Class 2 Precision: 1.0 Recall: 0.05309734513274336\n",
      "\n",
      "MNN: (X,t2) (X_test, t2_test)\n",
      "Accuracy = 0.6325 \n",
      "\n",
      "         Predicted  \n",
      "       [ 72. 133.]\n",
      "Actual [ 14. 181.]\n",
      "Class 0 Precision: 0.8372093023255814 Recall: 0.35121951219512193\n",
      "Class 1 Precision: 0.5764331210191083 Recall: 0.9282051282051282\n"
     ]
    }
   ],
   "source": [
    "# I think KNN and MNN did very well. Also linear regression did well with extra features.\n",
    "# However I will only take KNN and MNN\n",
    "\n",
    "def cf_matrix(actual, predicted):\n",
    "    K = len(np.unique(actual))\n",
    "    matrix = np.zeros((K,K))\n",
    "    for i in range(len(actual)):\n",
    "        matrix[actual[i], predicted[i]] += 1\n",
    "\n",
    "    print(\"         Predicted  \")\n",
    "    print(f\"       {matrix[0]}\")\n",
    "    print(f\"Actual {matrix[1]}\")\n",
    "    if len(matrix) > 2:\n",
    "        print(f\"       {matrix[2]}\")\n",
    "    \n",
    "    return matrix\n",
    "\n",
    "def precision(matrix):\n",
    "    \"\"\"Makes list of the precision values\"\"\"\n",
    "    precList = []\n",
    "    classIndex = 0\n",
    "    for x in matrix.T:\n",
    "        if sum(x) != 0:\n",
    "            precList.append(x[classIndex]/sum(x))\n",
    "        else:\n",
    "            precList.append(float(0))\n",
    "        classIndex += 1\n",
    "    return precList\n",
    "\n",
    "def recall(matrix):\n",
    "    \"\"\"Makes list of the recall values\"\"\"\n",
    "    recallList = []\n",
    "    classIndex = 0\n",
    "    for x in matrix:\n",
    "        if sum(x) != 0: # to prevent NaN float\n",
    "            recallList.append(x[classIndex]/sum(x))\n",
    "        else:\n",
    "            recallList.append(float(0))\n",
    "        classIndex += 1\n",
    "    return recallList\n",
    "\n",
    "def print_precision_recall(matrix):\n",
    "    \"\"\"Prints out Precision and Recall values for each class\"\"\"\n",
    "    precisionList = precision(confMatrix)\n",
    "    recallList = recall(confMatrix)\n",
    "    for i in range(len(precisionList)):\n",
    "        print(f\"Class {i} Precision: {precisionList[i]} Recall: {recallList[i]}\")\n",
    "        \n",
    "        \n",
    "def normal(X):\n",
    "    x_max = np.max(X)\n",
    "    x_min = np.min(X)\n",
    "    X_scaled = (X - x_min)/(x_max - x_min)\n",
    "    return X_scaled\n",
    "\n",
    "# KNN\n",
    "print(\"kNN: (X,t) (X_test, t_test)\")\n",
    "cls = PykNNClassifier(k=14) # from test above I know that best accuracy at k = 14\n",
    "cls.fit(X_train.tolist(), t_train.tolist())\n",
    "acc_test = cls.accuracy(X_test.tolist(), t_test.tolist())\n",
    "print(\"Accuracy =\", acc_test, \"\\n\")\n",
    "predicted = [cls.predict(a) for a in X_test]\n",
    "confMatrix = cf_matrix(t_test, predicted)\n",
    "print_precision_recall(confMatrix)\n",
    "\n",
    "print(\"\\nkNN: (X,t2) (X_test, t2_test)\")\n",
    "cls = PykNNClassifier(k=14) # from test above I know that best accuracy at k = 14\n",
    "cls.fit(X_train.tolist(), t2_train.tolist())\n",
    "acc_test = cls.accuracy(X_test.tolist(), t2_test.tolist())\n",
    "print(\"Accuracy =\", acc_test, \"\\n\")\n",
    "predicted = [cls.predict(a) for a in X_test]\n",
    "confMatrix = cf_matrix(t2_test, predicted)\n",
    "print_precision_recall(confMatrix)\n",
    "\n",
    "\n",
    "# MNN\n",
    "print(\"\\nMNN: (X,t) (X_test, t_test)\")\n",
    "mnn = MNNClassifier(0.01, 6)\n",
    "mnn.fit(normal(X_train), t_train, 5000)\n",
    "acc_test = mnn.accuracy(normal(X_test), t_test)\n",
    "print(\"Accuracy =\", acc_test, \"\\n\")\n",
    "predicted = [mnn.predict(a) for a in normal(X_test)]\n",
    "confMatrix = cf_matrix(t_test, predicted)\n",
    "print_precision_recall(confMatrix)\n",
    "\n",
    "print(\"\\nMNN: (X,t2) (X_test, t2_test)\")\n",
    "mnn = MNNClassifier(0.01, 6)\n",
    "mnn.fit(normal(X_train), t2_train, 5000)\n",
    "acc_test = mnn.accuracy(normal(X_test), t2_test)\n",
    "print(\"Accuracy =\", acc_test, \"\\n\")\n",
    "predicted = [mnn.predict(a) for a in normal(X_test)]\n",
    "confMatrix = cf_matrix(t2_test, predicted)\n",
    "print_precision_recall(confMatrix)\n",
    "\n"
   ]
  },
  {
   "cell_type": "markdown",
   "metadata": {},
   "source": [
    "Accuracies from validation sets and test sets are almost the same. So it is kind of easy to predict how good accuracy we will get on test sets, without even running test sets, only by checking accuracy on validation sets."
   ]
  },
  {
   "cell_type": "code",
   "execution_count": null,
   "metadata": {},
   "outputs": [],
   "source": []
  }
 ],
 "metadata": {
  "kernelspec": {
   "display_name": "Python 3",
   "language": "python",
   "name": "python3"
  },
  "language_info": {
   "codemirror_mode": {
    "name": "ipython",
    "version": 3
   },
   "file_extension": ".py",
   "mimetype": "text/x-python",
   "name": "python",
   "nbconvert_exporter": "python",
   "pygments_lexer": "ipython3",
   "version": "3.8.3"
  }
 },
 "nbformat": 4,
 "nbformat_minor": 4
}
